{
 "cells": [
  {
   "cell_type": "code",
   "execution_count": 6,
   "metadata": {},
   "outputs": [
    {
     "ename": "ModuleNotFoundError",
     "evalue": "No module named 'powerline_roco'",
     "output_type": "error",
     "traceback": [
      "\u001b[1;31m---------------------------------------------------------------------------\u001b[0m",
      "\u001b[1;31mModuleNotFoundError\u001b[0m                       Traceback (most recent call last)",
      "Cell \u001b[1;32mIn[6], line 1\u001b[0m\n\u001b[1;32m----> 1\u001b[0m \u001b[38;5;28;01mfrom\u001b[39;00m \u001b[38;5;21;01mpowerline_roco\u001b[39;00m\u001b[38;5;21;01m.\u001b[39;00m\u001b[38;5;21;01msrc\u001b[39;00m\u001b[38;5;21;01m.\u001b[39;00m\u001b[38;5;21;01mconfigs\u001b[39;00m \u001b[38;5;28;01mimport\u001b[39;00m Config\n\u001b[0;32m      2\u001b[0m \u001b[38;5;28;01mimport\u001b[39;00m \u001b[38;5;21;01mos\u001b[39;00m\n\u001b[0;32m      5\u001b[0m settings \u001b[38;5;241m=\u001b[39m Config()\n",
      "\u001b[1;31mModuleNotFoundError\u001b[0m: No module named 'powerline_roco'"
     ]
    }
   ],
   "source": [
    "from powerline_roco.src.configs import Config\n",
    "import os\n",
    "\n",
    "\n",
    "settings = Config()\n",
    "print(settings.owner)\n",
    "print(settings.EMAIL)\n",
    "\n",
    "settings.EMAIL['host']"
   ]
  },
  {
   "cell_type": "code",
   "execution_count": 9,
   "metadata": {},
   "outputs": [
    {
     "data": {
      "text/plain": [
       "{'msg': 'Processo finalizado!',\n",
       " 'status': 'status',\n",
       " 'horario': 'current_time',\n",
       " 'previous_row_count': 'previous_row_count',\n",
       " 'current_row_count': 'current_row_count'}"
      ]
     },
     "execution_count": 9,
     "metadata": {},
     "output_type": "execute_result"
    }
   ],
   "source": [
    "def teste():\n",
    "    return {\n",
    "    'msg': 'Processo finalizado!',\n",
    "    'status': 'status',\n",
    "    'horario': 'current_time',\n",
    "    'previous_row_count': 'previous_row_count',\n",
    "    'current_row_count': 'current_row_count',\n",
    "}\n",
    "\n",
    "file = teste()\n",
    "file\n"
   ]
  }
 ],
 "metadata": {
  "kernelspec": {
   "display_name": "Python 3",
   "language": "python",
   "name": "python3"
  },
  "language_info": {
   "codemirror_mode": {
    "name": "ipython",
    "version": 3
   },
   "file_extension": ".py",
   "mimetype": "text/x-python",
   "name": "python",
   "nbconvert_exporter": "python",
   "pygments_lexer": "ipython3",
   "version": "3.11.9"
  }
 },
 "nbformat": 4,
 "nbformat_minor": 2
}
