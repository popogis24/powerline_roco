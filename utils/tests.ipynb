{
 "cells": [
  {
   "cell_type": "code",
   "execution_count": 7,
   "metadata": {},
   "outputs": [
    {
     "name": "stdout",
     "output_type": "stream",
     "text": [
      "{'name': 'TAESA'}\n",
      "{'host': 'smtp-mail.outlook.com', 'port': 587, 'username': 'correio@carusojrea.com.br', 'password': 'Lof13882', 'email_receiver': 'anderson@giscaruso.com.br'}\n"
     ]
    },
    {
     "data": {
      "text/plain": [
       "'smtp-mail.outlook.com'"
      ]
     },
     "execution_count": 7,
     "metadata": {},
     "output_type": "execute_result"
    }
   ],
   "source": [
    "from configs import Config\n",
    "import os\n",
    "\n",
    "\n",
    "settings = Config(r\"C:\\taesa\\settings.toml\")\n",
    "print(settings.owner)\n",
    "print(settings.EMAIL)\n",
    "\n",
    "settings.EMAIL['host']"
   ]
  },
  {
   "cell_type": "code",
   "execution_count": 9,
   "metadata": {},
   "outputs": [
    {
     "data": {
      "text/plain": [
       "{'msg': 'Processo finalizado!',\n",
       " 'status': 'status',\n",
       " 'horario': 'current_time',\n",
       " 'previous_row_count': 'previous_row_count',\n",
       " 'current_row_count': 'current_row_count'}"
      ]
     },
     "execution_count": 9,
     "metadata": {},
     "output_type": "execute_result"
    }
   ],
   "source": [
    "def teste():\n",
    "    return {\n",
    "    'msg': 'Processo finalizado!',\n",
    "    'status': 'status',\n",
    "    'horario': 'current_time',\n",
    "    'previous_row_count': 'previous_row_count',\n",
    "    'current_row_count': 'current_row_count',\n",
    "}\n",
    "\n",
    "file = teste()\n",
    "file\n"
   ]
  }
 ],
 "metadata": {
  "kernelspec": {
   "display_name": "Python 3",
   "language": "python",
   "name": "python3"
  },
  "language_info": {
   "codemirror_mode": {
    "name": "ipython",
    "version": 3
   },
   "file_extension": ".py",
   "mimetype": "text/x-python",
   "name": "python",
   "nbconvert_exporter": "python",
   "pygments_lexer": "ipython3",
   "version": "3.11.9"
  }
 },
 "nbformat": 4,
 "nbformat_minor": 2
}
