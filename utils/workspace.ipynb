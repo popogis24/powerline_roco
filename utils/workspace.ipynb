{
 "cells": [
  {
   "cell_type": "code",
   "execution_count": 6,
   "metadata": {},
   "outputs": [
    {
     "ename": "ModuleNotFoundError",
     "evalue": "No module named 'powerline_roco'",
     "output_type": "error",
     "traceback": [
      "\u001b[1;31m---------------------------------------------------------------------------\u001b[0m",
      "\u001b[1;31mModuleNotFoundError\u001b[0m                       Traceback (most recent call last)",
      "Cell \u001b[1;32mIn[6], line 1\u001b[0m\n\u001b[1;32m----> 1\u001b[0m \u001b[38;5;28;01mfrom\u001b[39;00m \u001b[38;5;21;01mpowerline_roco\u001b[39;00m\u001b[38;5;21;01m.\u001b[39;00m\u001b[38;5;21;01msrc\u001b[39;00m\u001b[38;5;21;01m.\u001b[39;00m\u001b[38;5;21;01mconfigs\u001b[39;00m \u001b[38;5;28;01mimport\u001b[39;00m Config\n\u001b[0;32m      2\u001b[0m \u001b[38;5;28;01mimport\u001b[39;00m \u001b[38;5;21;01mos\u001b[39;00m\n\u001b[0;32m      5\u001b[0m settings \u001b[38;5;241m=\u001b[39m Config()\n",
      "\u001b[1;31mModuleNotFoundError\u001b[0m: No module named 'powerline_roco'"
     ]
    }
   ],
   "source": [
    "from powerline_roco.src.configs import Config\n",
    "import os\n",
    "\n",
    "\n",
    "settings = Config()\n",
    "print(settings.owner)\n",
    "print(settings.EMAIL)\n",
    "\n",
    "settings.EMAIL['host']"
   ]
  },
  {
   "cell_type": "code",
   "execution_count": 9,
   "metadata": {},
   "outputs": [
    {
     "data": {
      "text/plain": [
       "{'msg': 'Processo finalizado!',\n",
       " 'status': 'status',\n",
       " 'horario': 'current_time',\n",
       " 'previous_row_count': 'previous_row_count',\n",
       " 'current_row_count': 'current_row_count'}"
      ]
     },
     "execution_count": 9,
     "metadata": {},
     "output_type": "execute_result"
    }
   ],
   "source": [
    "def teste():\n",
    "    return {\n",
    "    'msg': 'Processo finalizado!',\n",
    "    'status': 'status',\n",
    "    'horario': 'current_time',\n",
    "    'previous_row_count': 'previous_row_count',\n",
    "    'current_row_count': 'current_row_count',\n",
    "}\n",
    "\n",
    "file = teste()\n",
    "file\n"
   ]
  },
  {
   "cell_type": "code",
   "execution_count": 16,
   "metadata": {},
   "outputs": [
    {
     "name": "stdout",
     "output_type": "stream",
     "text": [
      "Dados inseridos com sucesso!\n"
     ]
    }
   ],
   "source": [
    "import sqlite3\n",
    "\n",
    "class Database:\n",
    "    def __init__(self, db_name):\n",
    "        self.db_name = db_name\n",
    "        self.conn = sqlite3.connect(self.db_name)\n",
    "        self.session = self.conn.cursor()\n",
    "\n",
    "    def __del__(self):\n",
    "        self.conn.close()\n",
    "\n",
    "    def create_table(self):\n",
    "        query= (\"\"\"\n",
    "        CREATE TABLE IF NOT EXISTS log (\n",
    "            id INTEGER PRIMARY KEY AUTOINCREMENT,\n",
    "            msg TEXT,\n",
    "            status TEXT,\n",
    "            horario TEXT,\n",
    "            previous_row_count INTEGER,\n",
    "            current_row_count INTEGER\n",
    "        );\n",
    "        \"\"\")\n",
    "        self.session.execute(query)\n",
    "        self.conn.commit()\n",
    "\n",
    "    def insert_data(self, data):\n",
    "        query = (\"\"\"\n",
    "        INSERT INTO log (msg, status, horario, previous_row_count, current_row_count)\n",
    "        VALUES (:msg, :status, :horario, :previous_row_count, :current_row_count);\n",
    "        \"\"\")\n",
    "        self.session.execute(query, data)\n",
    "        self.conn.commit()\n",
    "\n",
    "if __name__ == '__main__':\n",
    "    db = Database('log.db')\n",
    "    import datetime\n",
    "    date = datetime.datetime.now()\n",
    "    db.create_table()\n",
    "    data = {\n",
    "        'msg': 'Processo finalizado!',\n",
    "        'status': 'status',\n",
    "        'horario': date,\n",
    "        'previous_row_count': date,\n",
    "        'current_row_count': date,\n",
    "    }\n",
    "    db.insert_data(data)\n",
    "    print('Dados inseridos com sucesso!')\n"
   ]
  }
 ],
 "metadata": {
  "kernelspec": {
   "display_name": "Python 3",
   "language": "python",
   "name": "python3"
  },
  "language_info": {
   "codemirror_mode": {
    "name": "ipython",
    "version": 3
   },
   "file_extension": ".py",
   "mimetype": "text/x-python",
   "name": "python",
   "nbconvert_exporter": "python",
   "pygments_lexer": "ipython3",
   "version": "3.11.7"
  }
 },
 "nbformat": 4,
 "nbformat_minor": 2
}
